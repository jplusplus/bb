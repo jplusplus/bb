{
 "cells": [
  {
   "cell_type": "code",
   "execution_count": 143,
   "metadata": {},
   "outputs": [
    {
     "name": "stdout",
     "output_type": "stream",
     "text": [
      "Sanity check: The following line should say (56, 113332):\n"
     ]
    },
    {
     "data": {
      "text/plain": [
       "(56, 113332)"
      ]
     },
     "execution_count": 143,
     "metadata": {},
     "output_type": "execute_result"
    }
   ],
   "source": [
    "\"\"\"\n",
    " Import required modules and data\n",
    "\n",
    "\"\"\"\n",
    "import pandas as pd\n",
    "import math\n",
    "from pyproj import Proj, transform\n",
    "\n",
    "\n",
    "def getDistance(k1, k2):\n",
    "    \"\"\" Great-circle distances \"\"\"\n",
    "    lat1 = float(k1[\"lat\"])\n",
    "    lon1 = float(k1[\"lon\"])\n",
    "    lat2 = float(k2[\"lat\"])\n",
    "    lon2 = float(k2[\"lon\"])\n",
    "\n",
    "    radius = 6371  # km\n",
    "\n",
    "    dlat = math.radians(lat2 - lat1)\n",
    "    dlon = math.radians(lon2 - lon1)\n",
    "    a = math.sin(dlat/2) * math.sin(dlat/2) + math.cos(math.radians(lat1)) \\\n",
    "        * math.cos(math.radians(lat2)) * math.sin(dlon/2) * math.sin(dlon/2)\n",
    "    c = 2 * math.atan2(math.sqrt(a), math.sqrt(1 - a))\n",
    "    d = radius * c\n",
    "\n",
    "    return math.floor(d)\n",
    "\n",
    "\n",
    "# Useful constants\n",
    "SWEREF = Proj(init='epsg:3006')\n",
    "WGS84 = Proj(init='epsg:4326')\n",
    "NOW = \"2019-06-20\"\n",
    "THEN = \"1999-12-31\"\n",
    "\n",
    "# Load data\n",
    "bb = pd.read_csv(\"bb.csv\")\n",
    "\n",
    "# There was a problem with the geometry in the earilier SCB file. For now, loadonly one file, while investigating\n",
    "\"\"\"\n",
    "# transform all coordinates in the data to WSG84.\n",
    "# This may take a while (several minutes, on a typical laptop).\n",
    "\n",
    "pop = pd.read_csv(\"population_1.csv\")\n",
    "coords = pop.apply(lambda x: pd.Series(transform(SWEREF, WGS84, x.X, x.Y)), axis=1)\n",
    "coords.columns = [\"x\", \"y\"]\n",
    "pop = pop.join(coords)\n",
    "pop.to_csv(\"population_1_wgs84.csv\")\n",
    "\n",
    "\"\"\"\n",
    "\"\"\"\n",
    "population = [pd.read_csv(\"population_0.csv\"), pd.read_csv(\"population_1.csv\")]\n",
    "for i, pop in enumerate(population):\n",
    "    coords = pop.apply(lambda x: pd.Series(transform(sweref, wgs84, x.X, x.Y)), axis=1)\n",
    "    coords.columns = [\"x\", \"y\"]\n",
    "    population[i] = pop.join(coords)\n",
    "\"\"\"\n",
    "pop = pd.read_csv(\"population_1_wgs84.csv\")\n",
    "\"\"\" Add proper municipality names from https://github.com/jplusplus/statscraper-datatypes\n",
    "\"\"\"\n",
    "municipalities = pd.read_csv(\"datatypes/values/regions/sweden/municipalities.csv\")\n",
    "municipalities = municipalities[~municipalities.label.isin([\"Uppsala kommun före 2003\", \"Bara kommun\", \"Heby kommun före 2007\"])]\n",
    "pop = pop.merge(municipalities[[\"label\", \"dialect:numerical\"]], left_on=\"mcode\", right_on=\"dialect:numerical\").rename(columns={'label': 'mname'})\n",
    "\n",
    "print(\"Sanity check: The following line should say (56, 113332):\")\n",
    "(len(bb), len(pop))\n"
   ]
  },
  {
   "cell_type": "code",
   "execution_count": 144,
   "metadata": {},
   "outputs": [],
   "source": [
    "\"\"\"\n",
    " Add distance to the nearest maternity clinic for each square in the population grid, now and then.\n",
    " This may take a while (ten minutes or more on a typical laptop).\n",
    "\"\"\"\n",
    "# ISO dates work nicely in string comparisons.\n",
    "f_now = (bb.edate.astype(str) > NOW) & (bb.sdate.astype(str) <= NOW)\n",
    "f_then = (bb.edate.astype(str) > THEN) & (bb.sdate.astype(str) <= THEN)\n",
    "\n",
    "def nearest_bb(x, y, bb_selection):\n",
    "    mindist = bb_selection.apply(lambda row: getDistance({\"lat\": row.Y, \"lon\": row.X}, {\"lat\": y, \"lon\": x}), axis=1).min()\n",
    "    return mindist\n",
    "\n",
    "pop[\"dist_to_nearest_bb_now\"] = pop.apply(lambda ruta: nearest_bb(ruta.x, ruta.y, bb[f_now]), axis=1)\n",
    "pop[\"dist_to_nearest_bb_then\"] = pop.apply(lambda ruta: nearest_bb(ruta.x, ruta.y, bb[f_then]), axis=1)\n"
   ]
  },
  {
   "cell_type": "markdown",
   "metadata": {},
   "source": [
    "# The nation as a whole\n",
    "\n",
    "## Average distance, now and then\n"
   ]
  },
  {
   "cell_type": "code",
   "execution_count": 145,
   "metadata": {},
   "outputs": [
    {
     "name": "stdout",
     "output_type": "stream",
     "text": [
      "Average distance, 2000 and 2019 (km):\n"
     ]
    },
    {
     "data": {
      "text/plain": [
       "(15.777634920268525, 17.602592260456035)"
      ]
     },
     "execution_count": 145,
     "metadata": {},
     "output_type": "execute_result"
    }
   ],
   "source": [
    "# Weighted average distance in the whole nation\n",
    "total_pop = pop[\"pop\"].sum()\n",
    "avg_0 = (pop.dist_to_nearest_bb_then * (pop[\"pop\"] / total_pop)).sum()\n",
    "avg_1 = (pop.dist_to_nearest_bb_now * (pop[\"pop\"] / total_pop)).sum()\n",
    "\n",
    "print(\"Average distance, 2000 and 2019 (km):\")\n",
    "(avg_0, avg_1)"
   ]
  },
  {
   "cell_type": "code",
   "execution_count": 146,
   "metadata": {},
   "outputs": [
    {
     "name": "stdout",
     "output_type": "stream",
     "text": [
      "num then 55\n",
      "num now 46\n",
      "diff 9\n",
      "closed 10\n"
     ]
    }
   ],
   "source": [
    "# Number of BB, now and then\n",
    "f_now = (bb.edate.astype(str) > NOW) & (bb.sdate.astype(str) <= NOW)\n",
    "f_then = (bb.edate.astype(str) > THEN) & (bb.sdate.astype(str) <= THEN)\n",
    "\n",
    "print(\"num then\", f_then.astype(bool).sum(axis=0))\n",
    "print(\"num now\", f_now.astype(bool).sum(axis=0))\n",
    "print(\"diff\", f_then.astype(bool).sum(axis=0) - f_now.astype(bool).sum(axis=0))\n",
    "print(\"closed\", (bb.edate.astype(str) < NOW).astype(bool).sum(axis=0))"
   ]
  },
  {
   "cell_type": "markdown",
   "metadata": {},
   "source": [
    "## Number of people with more than X km"
   ]
  },
  {
   "cell_type": "code",
   "execution_count": 97,
   "metadata": {},
   "outputs": [
    {
     "name": "stdout",
     "output_type": "stream",
     "text": [
      "Dist.\t2000\t2019\n",
      "======================\n",
      "40\t907589\t1208663\n",
      "50\t504122\t699789\n",
      "60\t241211\t377766\n",
      "70\t150132\t261077\n",
      "80\t106492\t165692\n",
      "90\t68575\t104126\n",
      "100\t40024\t72665\n"
     ]
    }
   ],
   "source": [
    "# Number of people with more than x km \n",
    "distances = [40, 50, 60, 70, 80, 90, 100]\n",
    "print(\"Dist.\\t2000\\t2019\")\n",
    "print(\"======================\")\n",
    "for distance in distances:\n",
    "    num_0 = pop[pop.dist_to_nearest_bb_then > distance][\"pop\"].sum()\n",
    "    num_1 = pop[pop.dist_to_nearest_bb_now > distance][\"pop\"].sum()\n",
    "    print(\"\\t\".join([str(distance), str(num_0), str(num_1)]))\n"
   ]
  },
  {
   "cell_type": "markdown",
   "metadata": {},
   "source": [
    "# By municipality\n",
    "\n",
    "## Key figures for a specific municipality (using Kiruna as an example))"
   ]
  },
  {
   "cell_type": "code",
   "execution_count": 103,
   "metadata": {},
   "outputs": [
    {
     "name": "stdout",
     "output_type": "stream",
     "text": [
      "Total population: 5948\n",
      "Average distance 2000: 123.05480833893745\n",
      "Average distance 2019: 123.05480833893745\n",
      "Maximum distance 2000: 252\n",
      "Maximum distance 2019: 252\n",
      "Minimum distance 2019: 52\n",
      "Number of people with more than 100 km, 2000: 2243\n",
      "Number of people with more than 100 km, 2019: 2243\n"
     ]
    }
   ],
   "source": [
    "# Key figures for a specific municipality)\n",
    "municipality = \"Storumans kommun\"\n",
    "\n",
    "local = pop[pop.mname == municipality]\n",
    "total_pop = local[\"pop\"].sum()\n",
    "avg_now = (local.dist_to_nearest_bb_now * (local[\"pop\"] / total_pop)).sum()\n",
    "avg_then = (local.dist_to_nearest_bb_then * (local[\"pop\"] / total_pop)).sum()\n",
    "max_dist_now = local.dist_to_nearest_bb_now.max()\n",
    "max_dist_then = local.dist_to_nearest_bb_then.max()\n",
    "min_dist_now = local.dist_to_nearest_bb_now.min()\n",
    "num_above_100_now = local[local.dist_to_nearest_bb_now > 100][\"pop\"].sum()\n",
    "num_above_100_then = local[local.dist_to_nearest_bb_then > 100][\"pop\"].sum()\n",
    "\n",
    "print(\"Total population:\", total_pop)\n",
    "print(\"Average distance 2000:\", avg_then)\n",
    "print(\"Average distance 2019:\", avg_now)\n",
    "print(\"Maximum distance 2000:\", max_dist_then)\n",
    "print(\"Maximum distance 2019:\", max_dist_now)\n",
    "print(\"Minimum distance 2019:\", min_dist_now)\n",
    "print(\"Number of people with more than 100 km, 2000:\", num_above_100_then)\n",
    "print(\"Number of people with more than 100 km, 2019:\", num_above_100_now)"
   ]
  },
  {
   "cell_type": "markdown",
   "metadata": {},
   "source": [
    "## Maximum distances by municipality"
   ]
  },
  {
   "cell_type": "code",
   "execution_count": 59,
   "metadata": {},
   "outputs": [
    {
     "data": {
      "text/plain": [
       "mname\n",
       "Solna kommun               3\n",
       "Danderyds kommun           5\n",
       "Sundbybergs kommun         5\n",
       "Partille kommun            9\n",
       "Burlövs kommun             9\n",
       "Salems kommun             10\n",
       "Malmö kommun              10\n",
       "Huddinge kommun           11\n",
       "Lomma kommun              12\n",
       "Hammarö kommun            13\n",
       "Täby kommun               13\n",
       "Oxelösunds kommun         14\n",
       "Lidingö kommun            14\n",
       "Staffanstorps kommun      14\n",
       "Sollentuna kommun         14\n",
       "Stockholms kommun         14\n",
       "Botkyrka kommun           15\n",
       "Mölndals kommun           16\n",
       "Göteborgs kommun          16\n",
       "Nacka kommun              17\n",
       "Järfälla kommun           17\n",
       "Helsingborgs kommun       19\n",
       "Kävlinge kommun           20\n",
       "Bjuvs kommun              20\n",
       "Skövde kommun             21\n",
       "Nykvarns kommun           22\n",
       "Vaxholms kommun           22\n",
       "Upplands Väsby kommun     22\n",
       "Tyresö kommun             23\n",
       "Trollhättans kommun       23\n",
       "                        ... \n",
       "Haparanda kommun         104\n",
       "Strömstads kommun        104\n",
       "Åsele kommun             104\n",
       "Ånge kommun              104\n",
       "Rättviks kommun          104\n",
       "Överkalix kommun         109\n",
       "Bergs kommun             111\n",
       "Hagfors kommun           112\n",
       "Orsa kommun              118\n",
       "Sollefteå kommun         119\n",
       "Krokoms kommun           121\n",
       "Åre kommun               128\n",
       "Jokkmokks kommun         130\n",
       "Ljusdals kommun          130\n",
       "Mora kommun              135\n",
       "Övertorneå kommun        147\n",
       "Arvidsjaurs kommun       149\n",
       "Gällivare kommun         154\n",
       "Pajala kommun            156\n",
       "Härjedalens kommun       160\n",
       "Malung-Sälens kommun     169\n",
       "Dorotea kommun           176\n",
       "Torsby kommun            188\n",
       "Kiruna kommun            194\n",
       "Strömsunds kommun        195\n",
       "Sorsele kommun           200\n",
       "Älvdalens kommun         202\n",
       "Arjeplogs kommun         204\n",
       "Vilhelmina kommun        217\n",
       "Storumans kommun         252\n",
       "Name: dist_to_nearest_bb_now, Length: 290, dtype: int64"
      ]
     },
     "execution_count": 59,
     "metadata": {},
     "output_type": "execute_result"
    }
   ],
   "source": [
    "# Maximum distances by municipality, 2019\n",
    "m_groups = pop.groupby(\"mname\")\n",
    "m_groups.dist_to_nearest_bb_now.max().sort_values()"
   ]
  },
  {
   "cell_type": "code",
   "execution_count": 60,
   "metadata": {},
   "outputs": [
    {
     "data": {
      "text/plain": [
       "mname\n",
       "Solna kommun               3\n",
       "Sundbybergs kommun         5\n",
       "Danderyds kommun           5\n",
       "Partille kommun            9\n",
       "Burlövs kommun             9\n",
       "Malmö kommun              10\n",
       "Salems kommun             10\n",
       "Huddinge kommun           11\n",
       "Lomma kommun              12\n",
       "Täby kommun               13\n",
       "Lidingö kommun            13\n",
       "Hammarö kommun            13\n",
       "Oxelösunds kommun         14\n",
       "Stockholms kommun         14\n",
       "Sollentuna kommun         14\n",
       "Staffanstorps kommun      14\n",
       "Botkyrka kommun           15\n",
       "Göteborgs kommun          16\n",
       "Mölndals kommun           16\n",
       "Nacka kommun              16\n",
       "Järfälla kommun           17\n",
       "Helsingborgs kommun       19\n",
       "Bjuvs kommun              20\n",
       "Kävlinge kommun           20\n",
       "Karlskoga kommun          21\n",
       "Skövde kommun             21\n",
       "Upplands Väsby kommun     22\n",
       "Nykvarns kommun           22\n",
       "Vaxholms kommun           22\n",
       "Öckerö kommun             23\n",
       "                        ... \n",
       "Arvika kommun             97\n",
       "Överkalix kommun          97\n",
       "Dals-Eds kommun           97\n",
       "Hagfors kommun            98\n",
       "Malung-Sälens kommun      99\n",
       "Årjängs kommun           100\n",
       "Malå kommun              102\n",
       "Eda kommun               102\n",
       "Ånge kommun              104\n",
       "Åsele kommun             104\n",
       "Strömstads kommun        104\n",
       "Ljusdals kommun          106\n",
       "Bergs kommun             111\n",
       "Gällivare kommun         114\n",
       "Krokoms kommun           121\n",
       "Övertorneå kommun        122\n",
       "Torsby kommun            125\n",
       "Kiruna kommun            126\n",
       "Åre kommun               128\n",
       "Jokkmokks kommun         130\n",
       "Pajala kommun            142\n",
       "Härjedalens kommun       143\n",
       "Arvidsjaurs kommun       147\n",
       "Älvdalens kommun         169\n",
       "Dorotea kommun           176\n",
       "Strömsunds kommun        195\n",
       "Sorsele kommun           200\n",
       "Arjeplogs kommun         204\n",
       "Vilhelmina kommun        217\n",
       "Storumans kommun         252\n",
       "Name: dist_to_nearest_bb_then, Length: 290, dtype: int64"
      ]
     },
     "execution_count": 60,
     "metadata": {},
     "output_type": "execute_result"
    }
   ],
   "source": [
    "# Maximum distances by municipality, 2000\n",
    "m_groups = pop.groupby(\"mname\")\n",
    "m_groups.dist_to_nearest_bb_then.max().sort_values()"
   ]
  },
  {
   "cell_type": "markdown",
   "metadata": {},
   "source": [
    "## Number of people with more than 100 km, by municipality"
   ]
  },
  {
   "cell_type": "code",
   "execution_count": 61,
   "metadata": {},
   "outputs": [
    {
     "data": {
      "text/plain": [
       "mname\n",
       "Malung-Sälens kommun    9380\n",
       "Härjedalens kommun      9173\n",
       "Haparanda kommun        7069\n",
       "Älvdalens kommun        6855\n",
       "Arvidsjaurs kommun      5717\n",
       "Torsby kommun           4727\n",
       "Pajala kommun           4517\n",
       "Övertorneå kommun       4289\n",
       "Strömsunds kommun       4184\n",
       "Arjeplogs kommun        2803\n",
       "Dorotea kommun          2672\n",
       "Storumans kommun        2243\n",
       "Vilhelmina kommun       2058\n",
       "Sorsele kommun          1953\n",
       "Kiruna kommun           1694\n",
       "Sollefteå kommun        1194\n",
       "Ljusdals kommun          662\n",
       "Åre kommun               374\n",
       "Strömstads kommun        319\n",
       "Mora kommun              283\n",
       "Jokkmokks kommun         139\n",
       "Överkalix kommun          85\n",
       "Krokoms kommun            78\n",
       "Hagfors kommun            42\n",
       "Orsa kommun               32\n",
       "Gällivare kommun          28\n",
       "Åsele kommun              28\n",
       "Bergs kommun              23\n",
       "Rättviks kommun           16\n",
       "Eda kommun                13\n",
       "Ånge kommun               13\n",
       "Malå kommun                2\n",
       "Name: pop, dtype: int64"
      ]
     },
     "execution_count": 61,
     "metadata": {},
     "output_type": "execute_result"
    }
   ],
   "source": [
    "# Number of people with more than 100 km, by municipality, 2019\n",
    "pop[pop.dist_to_nearest_bb_now > 100].groupby(\"mname\")[\"pop\"].sum().sort_values(ascending=False)\n"
   ]
  },
  {
   "cell_type": "code",
   "execution_count": 48,
   "metadata": {},
   "outputs": [
    {
     "data": {
      "text/plain": [
       "mname\n",
       "Härjedalens kommun    8515\n",
       "Arvidsjaurs kommun    5433\n",
       "Pajala kommun         4447\n",
       "Strömsunds kommun     2991\n",
       "Arjeplogs kommun      2803\n",
       "Dorotea kommun        2659\n",
       "Torsby kommun         2621\n",
       "Storumans kommun      2243\n",
       "Älvdalens kommun      2124\n",
       "Vilhelmina kommun     2058\n",
       "Sorsele kommun        1953\n",
       "Kiruna kommun          696\n",
       "Övertorneå kommun      513\n",
       "Åre kommun             374\n",
       "Strömstads kommun      319\n",
       "Jokkmokks kommun       139\n",
       "Krokoms kommun          78\n",
       "Ljusdals kommun         32\n",
       "Bergs kommun            23\n",
       "Åsele kommun            18\n",
       "Eda kommun              13\n",
       "Ånge kommun             13\n",
       "Gällivare kommun         6\n",
       "Malå kommun              2\n",
       "Name: pop, dtype: int64"
      ]
     },
     "execution_count": 48,
     "metadata": {},
     "output_type": "execute_result"
    }
   ],
   "source": [
    "# Number of people with more than 100 km, by municipality, 2000\n",
    "pop[pop.dist_to_nearest_bb_then > 100].groupby(\"mname\")[\"pop\"].sum().sort_values(ascending=False)\n"
   ]
  },
  {
   "cell_type": "markdown",
   "metadata": {},
   "source": [
    "## Percentage of people with more than 100 km, by municipality"
   ]
  },
  {
   "cell_type": "code",
   "execution_count": 47,
   "metadata": {},
   "outputs": [
    {
     "data": {
      "text/plain": [
       "mname\n",
       "Arjeplogs kommun        1.000000\n",
       "Dorotea kommun          0.999252\n",
       "Älvdalens kommun        0.975107\n",
       "Malung-Sälens kommun    0.938563\n",
       "Övertorneå kommun       0.933812\n",
       "Härjedalens kommun      0.896151\n",
       "Arvidsjaurs kommun      0.885533\n",
       "Sorsele kommun          0.752891\n",
       "Pajala kommun           0.731024\n",
       "Haparanda kommun        0.720298\n",
       "Torsby kommun           0.394410\n",
       "Storumans kommun        0.377102\n",
       "Strömsunds kommun       0.355722\n",
       "Vilhelmina kommun       0.301274\n",
       "Kiruna kommun           0.073270\n",
       "Sollefteå kommun        0.060680\n",
       "Ljusdals kommun         0.034986\n",
       "Åre kommun              0.034736\n",
       "Jokkmokks kommun        0.027239\n",
       "Strömstads kommun       0.025168\n",
       "Name: pop, dtype: float64"
      ]
     },
     "execution_count": 47,
     "metadata": {},
     "output_type": "execute_result"
    }
   ],
   "source": [
    "# Share of people with more than 100 km, by municipality, 2017\n",
    "(pop[pop.dist_to_nearest_bb_now > 100].groupby(\"mname\")[\"pop\"].sum() / pop.groupby(\"mname\")[\"pop\"].sum()).sort_values(ascending=False).head(20)"
   ]
  },
  {
   "cell_type": "code",
   "execution_count": 46,
   "metadata": {},
   "outputs": [
    {
     "data": {
      "text/plain": [
       "mname\n",
       "Arjeplogs kommun      1.000000\n",
       "Dorotea kommun        0.994390\n",
       "Arvidsjaurs kommun    0.841543\n",
       "Härjedalens kommun    0.831868\n",
       "Sorsele kommun        0.752891\n",
       "Pajala kommun         0.719696\n",
       "Storumans kommun      0.377102\n",
       "Älvdalens kommun      0.302134\n",
       "Vilhelmina kommun     0.301274\n",
       "Strömsunds kommun     0.254293\n",
       "Torsby kommun         0.218690\n",
       "Övertorneå kommun     0.111692\n",
       "Åre kommun            0.034736\n",
       "Kiruna kommun         0.030104\n",
       "Jokkmokks kommun      0.027239\n",
       "Strömstads kommun     0.025168\n",
       "Åsele kommun          0.006388\n",
       "Krokoms kommun        0.005315\n",
       "Bergs kommun          0.003215\n",
       "Ljusdals kommun       0.001691\n",
       "Name: pop, dtype: float64"
      ]
     },
     "execution_count": 46,
     "metadata": {},
     "output_type": "execute_result"
    }
   ],
   "source": [
    "# Share of people with more than 100 km, by municipality, 2000\n",
    "(pop[pop.dist_to_nearest_bb_then > 100].groupby(\"mname\")[\"pop\"].sum() / pop.groupby(\"mname\")[\"pop\"].sum()).sort_values(ascending=False).head(20)"
   ]
  },
  {
   "cell_type": "markdown",
   "metadata": {},
   "source": [
    "## Weighted average distances, by municipality"
   ]
  },
  {
   "cell_type": "code",
   "execution_count": 45,
   "metadata": {},
   "outputs": [
    {
     "data": {
      "text/plain": [
       "mname\n",
       "Solna kommun              2.034533\n",
       "Danderyds kommun          2.076101\n",
       "Malmö kommun              2.382794\n",
       "Helsingborgs kommun       3.541761\n",
       "Ystads kommun             3.703545\n",
       "Västerås kommun           3.928438\n",
       "Stockholms kommun         3.965619\n",
       "Sundbybergs kommun        4.086889\n",
       "Mölndals kommun           4.096337\n",
       "Partille kommun           4.266087\n",
       "Lunds kommun              4.283928\n",
       "Göteborgs kommun          4.306591\n",
       "Örebro kommun             4.375090\n",
       "Eskilstuna kommun         4.515851\n",
       "Borås kommun              4.605348\n",
       "Linköpings kommun         4.950215\n",
       "Södertälje kommun         5.021872\n",
       "Hammarö kommun            5.031993\n",
       "Skövde kommun             5.155763\n",
       "Gävle kommun              5.243858\n",
       "Halmstads kommun          5.305799\n",
       "Huddinge kommun           5.378977\n",
       "Botkyrka kommun           5.396720\n",
       "Trollhättans kommun       5.606090\n",
       "Uppsala kommun            5.670384\n",
       "Norrköpings kommun        5.769828\n",
       "Nyköpings kommun          5.782631\n",
       "Östersunds kommun         5.785038\n",
       "Kalmar kommun             5.973615\n",
       "Falu kommun               6.125217\n",
       "                           ...    \n",
       "Jokkmokks kommun         70.265726\n",
       "Ragunda kommun           72.233781\n",
       "Bengtsfors kommun        72.276725\n",
       "Ånge kommun              72.761744\n",
       "Mora kommun              74.036154\n",
       "Ovanåkers kommun         74.126058\n",
       "Vansbro kommun           74.916853\n",
       "Hagfors kommun           75.174200\n",
       "Åsele kommun             77.382186\n",
       "Orsa kommun              78.584934\n",
       "Sollefteå kommun         79.708492\n",
       "Årjängs kommun           81.433415\n",
       "Eda kommun               84.571983\n",
       "Överkalix kommun         84.718401\n",
       "Kiruna kommun            85.480277\n",
       "Strömstads kommun        92.516213\n",
       "Strömsunds kommun        96.310917\n",
       "Haparanda kommun         98.438557\n",
       "Torsby kommun           104.193325\n",
       "Vilhelmina kommun       105.679696\n",
       "Pajala kommun           107.468199\n",
       "Arvidsjaurs kommun      111.069083\n",
       "Övertorneå kommun       116.302852\n",
       "Malung-Sälens kommun    116.478787\n",
       "Sorsele kommun          118.446029\n",
       "Dorotea kommun          119.025804\n",
       "Härjedalens kommun      121.207796\n",
       "Storumans kommun        123.054808\n",
       "Älvdalens kommun        132.402418\n",
       "Arjeplogs kommun        164.167321\n",
       "Length: 290, dtype: float64"
      ]
     },
     "execution_count": 45,
     "metadata": {},
     "output_type": "execute_result"
    }
   ],
   "source": [
    "# Weighted average distances 2019, by municipality\n",
    "\n",
    "pop[\"product_now\"] = (pop.dist_to_nearest_bb_now * pop[\"pop\"])\n",
    "(pop.groupby(\"mname\").product_now.sum()  / pop.groupby(\"mname\")[\"pop\"].sum()).sort_values()"
   ]
  },
  {
   "cell_type": "code",
   "execution_count": 147,
   "metadata": {},
   "outputs": [],
   "source": [
    "# Generate csv file with key values\n",
    "\n",
    "output = []\n",
    "# keep it simple, nothing computationally heavy here anyway\n",
    "for i, m in municipalities.iterrows():\n",
    "    # mname\tavg_distance_2000\tavg_distance_2017\tmax_distance_2000\tmax_distance_2017\tnum_above_100\tnum_above_75\tnum_above_50\n",
    "    mname = m.id\n",
    "    if m.id == \"Gotlands kommun\":\n",
    "        mname = \"Region Gotland\"        \n",
    "\n",
    "    local = pop[pop.mname == mname]\n",
    "    total_pop = local[\"pop\"].sum()\n",
    "    output.append({\n",
    "        'mname': mname,\n",
    "        'avg_distance_2000': (local.dist_to_nearest_bb_then * (local[\"pop\"] / total_pop)).sum(),\n",
    "        'avg_distance_2017': (local.dist_to_nearest_bb_now * (local[\"pop\"] / total_pop)).sum(),\n",
    "        'max_distance_2000': local.dist_to_nearest_bb_then.max(),\n",
    "        'max_distance_2017': local.dist_to_nearest_bb_now.max(),\n",
    "        'num_above_100': local[local.dist_to_nearest_bb_now > 100][\"pop\"].sum(),\n",
    "        'num_above_75': local[local.dist_to_nearest_bb_now > 75][\"pop\"].sum(),\n",
    "        'num_above_50': local[local.dist_to_nearest_bb_now > 50][\"pop\"].sum(),\n",
    "\n",
    "    })\n",
    "output\n",
    "from csv import DictWriter\n",
    "with open(\"municipality_indicators.csv\", \"w\") as file_:\n",
    "    writer = DictWriter(file_, fieldnames = output[0].keys())\n",
    "    writer.writeheader()\n",
    "    writer.writerows(output)\n"
   ]
  }
 ],
 "metadata": {
  "kernelspec": {
   "display_name": "Python 3",
   "language": "python",
   "name": "python3"
  },
  "language_info": {
   "codemirror_mode": {
    "name": "ipython",
    "version": 3
   },
   "file_extension": ".py",
   "mimetype": "text/x-python",
   "name": "python",
   "nbconvert_exporter": "python",
   "pygments_lexer": "ipython3",
   "version": "3.7.3"
  }
 },
 "nbformat": 4,
 "nbformat_minor": 2
}
